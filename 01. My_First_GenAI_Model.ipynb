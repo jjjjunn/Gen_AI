{
 "cells": [
  {
   "cell_type": "code",
   "execution_count": 1,
   "id": "918ad045",
   "metadata": {},
   "outputs": [],
   "source": [
    "import os\n",
    "import openai\n",
    "\n",
    "# 환경변수에서 OpenAI API 키를 읽어옴.\n",
    "openai_api_key = os.getenv('OPENAI_API_KEY')\n",
    "\n",
    "# API 키가 환경변수에 설정되어 있는지 확인.\n",
    "if not openai_api_key:\n",
    "    raise ValueError(\"환경변수 'OPENAI_API_KEY'가 설정되지 않았습니다.\")\n",
    "\n",
    "# OpenAI API 키를 설정.\n",
    "openai.api_key = openai_api_key\n",
    "\n",
    "# OpenAI 클라이언트를 생성.\n",
    "client = openai.OpenAI()"
   ]
  },
  {
   "cell_type": "code",
   "execution_count": 2,
   "id": "4e57e47b",
   "metadata": {},
   "outputs": [
    {
     "name": "stdout",
     "output_type": "stream",
     "text": [
      "ChatCompletionMessage(content='안녕하세요! 헤이마트에 문의해주셔서 감사합니다. 어떤 도움을 드릴 수 있을까요?', role='assistant', function_call=None, tool_calls=None, refusal=None)\n"
     ]
    }
   ],
   "source": [
    "completion = client.chat.completions.create(\n",
    "    model=\"gpt-3.5-turbo\",\n",
    "    messages=[\n",
    "        {\"role\": \"system\", \"content\": \"당신은 헤이마트의 상담원입니다.\"},\n",
    "        {\"role\": \"user\", \"content\": \"안녕하세요!\"}\n",
    "    ]\n",
    ")\n",
    "\n",
    "# 생성된 응답의 텍스트 출력\n",
    "print(completion.choices[0].message)"
   ]
  },
  {
   "cell_type": "code",
   "execution_count": 3,
   "id": "d2275d9a",
   "metadata": {},
   "outputs": [
    {
     "name": "stdout",
     "output_type": "stream",
     "text": [
      "0 저녁으로는 균형 잡힌 영양소가 포함된 식사가 좋습니다. 단백질을 고려하여 닭가슴살이나 연어와 같은 생선을 고르고, 채소와 함께 샐러드를 섭취하는 것이 좋습니다. 탄수화\n",
      "1 저녁으로는 균형 잡힌 영양소를 고려한 식사가 좋습니다. 단백질, 탄수화물, 채소를 적절히 섞어 된장찌개나 닭가슴살 샐러드, 국수 등을 고려해보세요.\n"
     ]
    }
   ],
   "source": [
    "completion = client.chat.completions.create(\n",
    "    model=\"gpt-3.5-turbo\",\n",
    "    messages=[\n",
    "        {\"role\": \"system\", \"content\": \"당신은 헤이마트의 상담원입니다.\"},\n",
    "        {\"role\": \"user\", \"content\": \"저녁으로 무엇을 먹을까요? 짧게 설명해주세요.\"}\n",
    "    ],\n",
    "    # 매개변수들\n",
    "    temperature=0.7, # 답변에 대해 창의적일지, 정확할지 결정\n",
    "    max_tokens=100, # 챗gpt가 답변할 수 있는 최대 토큰 수\n",
    "    top_p=1, # 토큰의 확률 분포 제한 (응답의 다양성 제어)\n",
    "    presence_penalty=0, # 이미 나온 내용을 반복하는 것에 대한 패널티 부여\n",
    "    frequency_penalty=0, # 자주 나타나는 단어나 구절을 반복하는 것에 대한 패널티 부여\n",
    "    n=2, # 생성할 응답 개수\n",
    "    stop=None # 특정 문자열이나 문자열 목록을 만나면 응답 중단\n",
    ")\n",
    "\n",
    "for choice in completion.choices:\n",
    "    print(choice.index, choice.message.content)"
   ]
  },
  {
   "cell_type": "code",
   "execution_count": 1,
   "id": "48c21de3",
   "metadata": {},
   "outputs": [
    {
     "name": "stdout",
     "output_type": "stream",
     "text": [
      "Running on local URL:  http://127.0.0.1:7860\n",
      "\n",
      "To create a public link, set `share=True` in `launch()`.\n"
     ]
    },
    {
     "data": {
      "text/html": [
       "<div><iframe src=\"http://127.0.0.1:7860/\" width=\"100%\" height=\"500\" allow=\"autoplay; camera; microphone; clipboard-read; clipboard-write;\" frameborder=\"0\" allowfullscreen></iframe></div>"
      ],
      "text/plain": [
       "<IPython.core.display.HTML object>"
      ]
     },
     "metadata": {},
     "output_type": "display_data"
    },
    {
     "data": {
      "text/plain": []
     },
     "execution_count": 1,
     "metadata": {},
     "output_type": "execute_result"
    }
   ],
   "source": [
    "import gradio as gr\n",
    "\n",
    "def greet(name):\n",
    "    return \"Hello \" + name + \"!\"\n",
    "\n",
    "demo = gr.Interface(fn=greet, inputs=\"text\", outputs=\"text\")\n",
    "demo.launch() "
   ]
  },
  {
   "cell_type": "code",
   "execution_count": 2,
   "id": "94b2d742",
   "metadata": {},
   "outputs": [
    {
     "name": "stdout",
     "output_type": "stream",
     "text": [
      "IMPORTANT: You are using gradio version 2.5.3, however version 4.44.1 is available, please upgrade.\n",
      "--------\n",
      "Running on local URL:  http://127.0.0.1:7861/\n",
      "\n",
      "To create a public link, set `share=True` in `launch()`.\n"
     ]
    },
    {
     "data": {
      "text/html": [
       "\n",
       "        <iframe\n",
       "            width=\"900\"\n",
       "            height=\"500\"\n",
       "            src=\"http://127.0.0.1:7861/\"\n",
       "            frameborder=\"0\"\n",
       "            allowfullscreen\n",
       "            \n",
       "        ></iframe>\n",
       "        "
      ],
      "text/plain": [
       "<IPython.lib.display.IFrame at 0x220af1394c8>"
      ]
     },
     "metadata": {},
     "output_type": "display_data"
    },
    {
     "data": {
      "text/plain": [
       "(<Flask 'gradio.networking'>, 'http://127.0.0.1:7861/', None)"
      ]
     },
     "execution_count": 2,
     "metadata": {},
     "output_type": "execute_result"
    }
   ],
   "source": [
    "import gradio as gr\n",
    "\n",
    "def user_greeting(name):\n",
    "    return \"안녕하세요!\" + name + \"고객님, 헤이마트에 오신 것을 환영합니다.\"\n",
    "\n",
    "app = gr.Interface(fn=user_greeting, inputs=\"text\", outputs=\"text\")\n",
    "app.launch()"
   ]
  },
  {
   "cell_type": "code",
   "execution_count": 2,
   "id": "769d2ceb",
   "metadata": {},
   "outputs": [
    {
     "name": "stdout",
     "output_type": "stream",
     "text": [
      "IMPORTANT: You are using gradio version 3.34.0, however version 4.44.1 is available, please upgrade.\n",
      "--------\n",
      "Running on local URL:  http://127.0.0.1:7861\n",
      "\n",
      "To create a public link, set `share=True` in `launch()`.\n"
     ]
    },
    {
     "data": {
      "text/html": [
       "<div><iframe src=\"http://127.0.0.1:7861/\" width=\"100%\" height=\"500\" allow=\"autoplay; camera; microphone; clipboard-read; clipboard-write;\" frameborder=\"0\" allowfullscreen></iframe></div>"
      ],
      "text/plain": [
       "<IPython.core.display.HTML object>"
      ]
     },
     "metadata": {},
     "output_type": "display_data"
    },
    {
     "data": {
      "text/plain": []
     },
     "execution_count": 2,
     "metadata": {},
     "output_type": "execute_result"
    }
   ],
   "source": [
    "import gradio as gr\n",
    "\n",
    "def display(name):\n",
    "    return name\n",
    "\n",
    "app = gr.Interface(fn=display, inputs=\"text\", outputs=\"text\")\n",
    "app.launch()"
   ]
  },
  {
   "cell_type": "code",
   "execution_count": 6,
   "id": "66aa9d1c",
   "metadata": {},
   "outputs": [
    {
     "name": "stdout",
     "output_type": "stream",
     "text": [
      "Running on local URL:  http://127.0.0.1:7862\n",
      "\n",
      "To create a public link, set `share=True` in `launch()`.\n"
     ]
    },
    {
     "data": {
      "text/html": [
       "<div><iframe src=\"http://127.0.0.1:7862/\" width=\"100%\" height=\"500\" allow=\"autoplay; camera; microphone; clipboard-read; clipboard-write;\" frameborder=\"0\" allowfullscreen></iframe></div>"
      ],
      "text/plain": [
       "<IPython.core.display.HTML object>"
      ]
     },
     "metadata": {},
     "output_type": "display_data"
    },
    {
     "data": {
      "text/plain": []
     },
     "execution_count": 6,
     "metadata": {},
     "output_type": "execute_result"
    }
   ],
   "source": [
    "import gradio as gr\n",
    "\n",
    "def display(text1, text2, image):\n",
    "    return text1 + text2, image\n",
    "\n",
    "app=gr.Interface(fn=display,\n",
    "inputs=[\"text\", \"text\", gr.Image(height=200, width=200)],\n",
    "outputs=[\"text\", gr.Image(height=200, width=200)]\n",
    ")\n",
    "app.launch()"
   ]
  },
  {
   "cell_type": "code",
   "execution_count": 2,
   "id": "a3dfc6fe",
   "metadata": {},
   "outputs": [
    {
     "name": "stdout",
     "output_type": "stream",
     "text": [
      "Running on local URL:  http://127.0.0.1:7861\n",
      "\n",
      "To create a public link, set `share=True` in `launch()`.\n"
     ]
    },
    {
     "data": {
      "text/html": [
       "<div><iframe src=\"http://127.0.0.1:7861/\" width=\"100%\" height=\"500\" allow=\"autoplay; camera; microphone; clipboard-read; clipboard-write;\" frameborder=\"0\" allowfullscreen></iframe></div>"
      ],
      "text/plain": [
       "<IPython.core.display.HTML object>"
      ]
     },
     "metadata": {},
     "output_type": "display_data"
    },
    {
     "data": {
      "text/plain": []
     },
     "execution_count": 2,
     "metadata": {},
     "output_type": "execute_result"
    }
   ],
   "source": [
    "import gradio as gr\n",
    "\n",
    "def display(text):\n",
    "    return text\n",
    "\n",
    "def display1(text):\n",
    "    return text\n",
    "\n",
    "app1 = gr.Interface(fn=display, inputs=\"text\", outputs=\"text\")\n",
    "app2 = gr.Interface(fn=display1, inputs=\"text\", outputs=\"text\")\n",
    "\n",
    "app = gr.TabbedInterface([app1, app2], [\"Tap1\",\"Tap2\"])\n",
    "\n",
    "app.launch()"
   ]
  },
  {
   "cell_type": "code",
   "execution_count": 7,
   "id": "adc4fbfd",
   "metadata": {},
   "outputs": [
    {
     "name": "stdout",
     "output_type": "stream",
     "text": [
      "Running on local URL:  http://127.0.0.1:7863\n",
      "\n",
      "To create a public link, set `share=True` in `launch()`.\n"
     ]
    },
    {
     "data": {
      "text/html": [
       "<div><iframe src=\"http://127.0.0.1:7863/\" width=\"100%\" height=\"500\" allow=\"autoplay; camera; microphone; clipboard-read; clipboard-write;\" frameborder=\"0\" allowfullscreen></iframe></div>"
      ],
      "text/plain": [
       "<IPython.core.display.HTML object>"
      ]
     },
     "metadata": {},
     "output_type": "display_data"
    },
    {
     "data": {
      "text/plain": []
     },
     "execution_count": 7,
     "metadata": {},
     "output_type": "execute_result"
    }
   ],
   "source": [
    "def display(text):\n",
    "    return text\n",
    "\n",
    "with gr.Blocks() as app:\n",
    "    text1=gr.Textbox(label=\"Name\")\n",
    "    text2=gr.Textbox(label=\"Output\")\n",
    "    btn=gr.Button(value=\"submit\")\n",
    "    btn.click(fn=display, inputs=text1, outputs=text2)\n",
    "\n",
    "app.launch()"
   ]
  },
  {
   "cell_type": "code",
   "execution_count": 9,
   "id": "0311cbef-2a44-493e-b658-b55773b6a25b",
   "metadata": {},
   "outputs": [
    {
     "name": "stdout",
     "output_type": "stream",
     "text": [
      "Running on local URL:  http://127.0.0.1:7864\n",
      "\n",
      "To create a public link, set `share=True` in `launch()`.\n"
     ]
    },
    {
     "data": {
      "text/html": [
       "<div><iframe src=\"http://127.0.0.1:7864/\" width=\"100%\" height=\"500\" allow=\"autoplay; camera; microphone; clipboard-read; clipboard-write;\" frameborder=\"0\" allowfullscreen></iframe></div>"
      ],
      "text/plain": [
       "<IPython.core.display.HTML object>"
      ]
     },
     "metadata": {},
     "output_type": "display_data"
    },
    {
     "data": {
      "text/plain": []
     },
     "execution_count": 9,
     "metadata": {},
     "output_type": "execute_result"
    }
   ],
   "source": [
    "def display(message, history):\n",
    "    return message\n",
    "\n",
    "app = gr.ChatInterface(fn=display, title=\"헤이마트 Bot\")\n",
    "\n",
    "app.launch()"
   ]
  },
  {
   "cell_type": "code",
   "execution_count": 12,
   "id": "567b8976-a396-42ee-abc5-9ba3000818e5",
   "metadata": {},
   "outputs": [
    {
     "name": "stdout",
     "output_type": "stream",
     "text": [
      "Running on local URL:  http://127.0.0.1:7866\n",
      "\n",
      "To create a public link, set `share=True` in `launch()`.\n"
     ]
    },
    {
     "data": {
      "text/html": [
       "<div><iframe src=\"http://127.0.0.1:7866/\" width=\"100%\" height=\"500\" allow=\"autoplay; camera; microphone; clipboard-read; clipboard-write;\" frameborder=\"0\" allowfullscreen></iframe></div>"
      ],
      "text/plain": [
       "<IPython.core.display.HTML object>"
      ]
     },
     "metadata": {},
     "output_type": "display_data"
    },
    {
     "data": {
      "text/plain": []
     },
     "execution_count": 12,
     "metadata": {},
     "output_type": "execute_result"
    }
   ],
   "source": [
    "def display(message, history, additional_input_info):\n",
    "    return message\n",
    "\n",
    "app = gr.ChatInterface(\n",
    "    fn=display,\n",
    "    textbox=gr.Textbox(placeholder=\"대화를 입력해주세요\", scale=7),\n",
    "    title=\"헤이마트 챗봇\",\n",
    "    description=\"마트 이용에 대한 모든 것을 알려 드립니다.\",\n",
    "    theme=\"soft\",\n",
    "    examples=[[\"세일 품목\"], [\"물건 위치\"], [\"XX 가격 알려줘\"]],\n",
    "    retry_btn=\"재전송\",\n",
    "    undo_btn=\"이전 대화 삭제\",\n",
    "    clear_btn=\"모든 대화 삭제\",\n",
    "    additional_inputs=[\n",
    "        gr.Textbox(value=\"관리자 호출\", label=\"긴급 시 사용하세요.\")\n",
    "    ]\n",
    ")\n",
    "\n",
    "app.launch()"
   ]
  },
  {
   "cell_type": "code",
   "execution_count": 13,
   "id": "a759bdc5-f031-4736-ba0d-6b2a05bdd862",
   "metadata": {},
   "outputs": [
    {
     "name": "stdout",
     "output_type": "stream",
     "text": [
      "Running on local URL:  http://127.0.0.1:7867\n",
      "\n",
      "To create a public link, set `share=True` in `launch()`.\n"
     ]
    },
    {
     "data": {
      "text/html": [
       "<div><iframe src=\"http://127.0.0.1:7867/\" width=\"100%\" height=\"500\" allow=\"autoplay; camera; microphone; clipboard-read; clipboard-write;\" frameborder=\"0\" allowfullscreen></iframe></div>"
      ],
      "text/plain": [
       "<IPython.core.display.HTML object>"
      ]
     },
     "metadata": {},
     "output_type": "display_data"
    },
    {
     "data": {
      "text/plain": []
     },
     "execution_count": 13,
     "metadata": {},
     "output_type": "execute_result"
    }
   ],
   "source": [
    "with gr.Blocks() as app:\n",
    "    with gr.Row():\n",
    "        btn1=gr.Button(\"1층 이동\")\n",
    "        btn2=gr.Button(\"2층 이동\")\n",
    "\n",
    "app.launch()"
   ]
  },
  {
   "cell_type": "code",
   "execution_count": 14,
   "id": "a60070be-7cde-43b1-b45c-eebafb64ecbf",
   "metadata": {},
   "outputs": [
    {
     "name": "stdout",
     "output_type": "stream",
     "text": [
      "Running on local URL:  http://127.0.0.1:7868\n",
      "\n",
      "To create a public link, set `share=True` in `launch()`.\n"
     ]
    },
    {
     "data": {
      "text/html": [
       "<div><iframe src=\"http://127.0.0.1:7868/\" width=\"100%\" height=\"500\" allow=\"autoplay; camera; microphone; clipboard-read; clipboard-write;\" frameborder=\"0\" allowfullscreen></iframe></div>"
      ],
      "text/plain": [
       "<IPython.core.display.HTML object>"
      ]
     },
     "metadata": {},
     "output_type": "display_data"
    },
    {
     "data": {
      "text/plain": []
     },
     "execution_count": 14,
     "metadata": {},
     "output_type": "execute_result"
    }
   ],
   "source": [
    "with gr.Blocks() as app:\n",
    "    with gr.Row(equal_height=True):\n",
    "        text=gr.Textbox()\n",
    "        btn2=gr.Button(\"입력\")\n",
    "app.launch()"
   ]
  },
  {
   "cell_type": "code",
   "execution_count": 15,
   "id": "c730e0aa-dbb0-4c84-b954-a27c68ec735f",
   "metadata": {},
   "outputs": [
    {
     "name": "stdout",
     "output_type": "stream",
     "text": [
      "Running on local URL:  http://127.0.0.1:7869\n",
      "\n",
      "To create a public link, set `share=True` in `launch()`.\n"
     ]
    },
    {
     "data": {
      "text/html": [
       "<div><iframe src=\"http://127.0.0.1:7869/\" width=\"100%\" height=\"500\" allow=\"autoplay; camera; microphone; clipboard-read; clipboard-write;\" frameborder=\"0\" allowfullscreen></iframe></div>"
      ],
      "text/plain": [
       "<IPython.core.display.HTML object>"
      ]
     },
     "metadata": {},
     "output_type": "display_data"
    },
    {
     "data": {
      "text/plain": []
     },
     "execution_count": 15,
     "metadata": {},
     "output_type": "execute_result"
    }
   ],
   "source": [
    "with gr.Blocks() as app:\n",
    "    with gr.Row(equal_height=True):\n",
    "        text1=gr.Textbox()\n",
    "        text2=gr.Textbox()\n",
    "    with gr.Row():\n",
    "        btn1=gr.Button(\"입력\")\n",
    "        btn2=gr.Button(\"취소\")\n",
    "\n",
    "app.launch()"
   ]
  },
  {
   "cell_type": "code",
   "execution_count": 16,
   "id": "a4c0534b-b420-4751-9b8d-f8a7e2abe7d3",
   "metadata": {},
   "outputs": [
    {
     "name": "stdout",
     "output_type": "stream",
     "text": [
      "Running on local URL:  http://127.0.0.1:7870\n",
      "\n",
      "To create a public link, set `share=True` in `launch()`.\n"
     ]
    },
    {
     "data": {
      "text/html": [
       "<div><iframe src=\"http://127.0.0.1:7870/\" width=\"100%\" height=\"500\" allow=\"autoplay; camera; microphone; clipboard-read; clipboard-write;\" frameborder=\"0\" allowfullscreen></iframe></div>"
      ],
      "text/plain": [
       "<IPython.core.display.HTML object>"
      ]
     },
     "metadata": {},
     "output_type": "display_data"
    },
    {
     "data": {
      "text/plain": []
     },
     "execution_count": 16,
     "metadata": {},
     "output_type": "execute_result"
    }
   ],
   "source": [
    "with gr.Blocks() as app:\n",
    "    with gr.Column():\n",
    "        text1=gr.Textbox()\n",
    "        text2=gr.Textbox()\n",
    "\n",
    "app.launch()"
   ]
  },
  {
   "cell_type": "code",
   "execution_count": 17,
   "id": "f7b2ec36-bf4b-402b-8584-405c27c3e82c",
   "metadata": {},
   "outputs": [
    {
     "name": "stdout",
     "output_type": "stream",
     "text": [
      "Running on local URL:  http://127.0.0.1:7871\n",
      "\n",
      "To create a public link, set `share=True` in `launch()`.\n"
     ]
    },
    {
     "data": {
      "text/html": [
       "<div><iframe src=\"http://127.0.0.1:7871/\" width=\"100%\" height=\"500\" allow=\"autoplay; camera; microphone; clipboard-read; clipboard-write;\" frameborder=\"0\" allowfullscreen></iframe></div>"
      ],
      "text/plain": [
       "<IPython.core.display.HTML object>"
      ]
     },
     "metadata": {},
     "output_type": "display_data"
    },
    {
     "data": {
      "text/plain": []
     },
     "execution_count": 17,
     "metadata": {},
     "output_type": "execute_result"
    }
   ],
   "source": [
    "with gr.Blocks() as app:\n",
    "    with gr.Row():\n",
    "        with gr.Column(scale=2):\n",
    "            text1=gr.Textbox()\n",
    "            text2=gr.Textbox()\n",
    "        with gr.Column(scale=1):\n",
    "            btn1=gr.Button(\"1층\")\n",
    "            btn2=gr.Button(\"2층\")\n",
    "\n",
    "app.launch()"
   ]
  },
  {
   "cell_type": "code",
   "execution_count": 18,
   "id": "cb27c2fb-aad6-49a0-b217-640202ee3cc7",
   "metadata": {},
   "outputs": [
    {
     "name": "stdout",
     "output_type": "stream",
     "text": [
      "Running on local URL:  http://127.0.0.1:7872\n",
      "\n",
      "To create a public link, set `share=True` in `launch()`.\n"
     ]
    },
    {
     "data": {
      "text/html": [
       "<div><iframe src=\"http://127.0.0.1:7872/\" width=\"100%\" height=\"500\" allow=\"autoplay; camera; microphone; clipboard-read; clipboard-write;\" frameborder=\"0\" allowfullscreen></iframe></div>"
      ],
      "text/plain": [
       "<IPython.core.display.HTML object>"
      ]
     },
     "metadata": {},
     "output_type": "display_data"
    },
    {
     "data": {
      "text/plain": []
     },
     "execution_count": 18,
     "metadata": {},
     "output_type": "execute_result"
    }
   ],
   "source": [
    "with gr.Blocks() as app:\n",
    "    with gr.Tab(\"구매\"):\n",
    "        text1=gr.Textbox()\n",
    "        btn1=gr.Button(\"구매하기\")\n",
    "    with gr.Tab(\"환불\"):\n",
    "        text2=gr.Textbox()\n",
    "        btn2=gr.Button(\"환불하기\")\n",
    "\n",
    "app.launch()"
   ]
  },
  {
   "cell_type": "code",
   "execution_count": 19,
   "id": "06afc877-cc8a-406e-a93d-897e001ae700",
   "metadata": {},
   "outputs": [
    {
     "name": "stdout",
     "output_type": "stream",
     "text": [
      "Running on local URL:  http://127.0.0.1:7873\n",
      "\n",
      "To create a public link, set `share=True` in `launch()`.\n"
     ]
    },
    {
     "data": {
      "text/html": [
       "<div><iframe src=\"http://127.0.0.1:7873/\" width=\"100%\" height=\"500\" allow=\"autoplay; camera; microphone; clipboard-read; clipboard-write;\" frameborder=\"0\" allowfullscreen></iframe></div>"
      ],
      "text/plain": [
       "<IPython.core.display.HTML object>"
      ]
     },
     "metadata": {},
     "output_type": "display_data"
    },
    {
     "data": {
      "text/plain": []
     },
     "execution_count": 19,
     "metadata": {},
     "output_type": "execute_result"
    }
   ],
   "source": [
    "with gr.Blocks() as app:\n",
    "    with gr.Group():\n",
    "        text1=gr.Textbox()\n",
    "        btn1=gr.Button(\"구매하기\")\n",
    "    with gr.Group():\n",
    "        text2=gr.Textbox()\n",
    "        btn2=gr.Button(\"환불하기\")\n",
    "\n",
    "app.launch()"
   ]
  },
  {
   "cell_type": "code",
   "execution_count": 24,
   "id": "cb939aab-b3d9-43e8-8d51-61671c45a4aa",
   "metadata": {},
   "outputs": [
    {
     "name": "stdout",
     "output_type": "stream",
     "text": [
      "Running on local URL:  http://127.0.0.1:7874\n",
      "\n",
      "To create a public link, set `share=True` in `launch()`.\n"
     ]
    },
    {
     "data": {
      "text/html": [
       "<div><iframe src=\"http://127.0.0.1:7874/\" width=\"100%\" height=\"500\" allow=\"autoplay; camera; microphone; clipboard-read; clipboard-write;\" frameborder=\"0\" allowfullscreen></iframe></div>"
      ],
      "text/plain": [
       "<IPython.core.display.HTML object>"
      ]
     },
     "metadata": {},
     "output_type": "display_data"
    },
    {
     "data": {
      "text/plain": []
     },
     "execution_count": 24,
     "metadata": {},
     "output_type": "execute_result"
    }
   ],
   "source": [
    "def display(text):\n",
    "    return text\n",
    "\n",
    "app = gr.Interface(fn=display, inputs=gr.Text(), outputs=gr.Textbox())\n",
    "\n",
    "app.launch()"
   ]
  },
  {
   "cell_type": "code",
   "execution_count": 25,
   "id": "d4005b72-de0e-4cd5-9369-d42b6a7bc457",
   "metadata": {},
   "outputs": [
    {
     "name": "stdout",
     "output_type": "stream",
     "text": [
      "Running on local URL:  http://127.0.0.1:7875\n",
      "\n",
      "To create a public link, set `share=True` in `launch()`.\n"
     ]
    },
    {
     "data": {
      "text/html": [
       "<div><iframe src=\"http://127.0.0.1:7875/\" width=\"100%\" height=\"500\" allow=\"autoplay; camera; microphone; clipboard-read; clipboard-write;\" frameborder=\"0\" allowfullscreen></iframe></div>"
      ],
      "text/plain": [
       "<IPython.core.display.HTML object>"
      ]
     },
     "metadata": {},
     "output_type": "display_data"
    },
    {
     "data": {
      "text/plain": []
     },
     "execution_count": 25,
     "metadata": {},
     "output_type": "execute_result"
    }
   ],
   "source": [
    "def display(data):\n",
    "    return data\n",
    "\n",
    "demo=gr.Interface(fn=display, inputs=gr.Dataframe(), outputs=\"dataframe\")\n",
    "demo.launch()"
   ]
  },
  {
   "cell_type": "code",
   "execution_count": 27,
   "id": "82cb7331-a723-4469-ad4f-3b03169a95e1",
   "metadata": {},
   "outputs": [
    {
     "name": "stdout",
     "output_type": "stream",
     "text": [
      "Running on local URL:  http://127.0.0.1:7876\n",
      "\n",
      "To create a public link, set `share=True` in `launch()`.\n"
     ]
    },
    {
     "data": {
      "text/html": [
       "<div><iframe src=\"http://127.0.0.1:7876/\" width=\"100%\" height=\"500\" allow=\"autoplay; camera; microphone; clipboard-read; clipboard-write;\" frameborder=\"0\" allowfullscreen></iframe></div>"
      ],
      "text/plain": [
       "<IPython.core.display.HTML object>"
      ]
     },
     "metadata": {},
     "output_type": "display_data"
    },
    {
     "data": {
      "text/plain": []
     },
     "execution_count": 27,
     "metadata": {},
     "output_type": "execute_result"
    }
   ],
   "source": [
    "def display(image):\n",
    "    return image.rotate(90)\n",
    "\n",
    "demo = gr.Interface(fn=display,\n",
    "                    inputs=gr.Image(type=\"pil\"), outputs=\"image\")\n",
    "demo.launch()"
   ]
  },
  {
   "cell_type": "code",
   "execution_count": 28,
   "id": "670ace77-199f-426c-ba64-030041397f3a",
   "metadata": {},
   "outputs": [
    {
     "name": "stdout",
     "output_type": "stream",
     "text": [
      "Running on local URL:  http://127.0.0.1:7877\n",
      "\n",
      "To create a public link, set `share=True` in `launch()`.\n"
     ]
    },
    {
     "data": {
      "text/html": [
       "<div><iframe src=\"http://127.0.0.1:7877/\" width=\"100%\" height=\"500\" allow=\"autoplay; camera; microphone; clipboard-read; clipboard-write;\" frameborder=\"0\" allowfullscreen></iframe></div>"
      ],
      "text/plain": [
       "<IPython.core.display.HTML object>"
      ]
     },
     "metadata": {},
     "output_type": "display_data"
    },
    {
     "data": {
      "text/plain": []
     },
     "execution_count": 28,
     "metadata": {},
     "output_type": "execute_result"
    }
   ],
   "source": [
    "import os\n",
    "\n",
    "def display(image):\n",
    "    return image.rotate(45)\n",
    "\n",
    "app = gr.Interface(\n",
    "    display,\n",
    "    gr.Image(type=\"pil\", width=400, height=300),\n",
    "    gr.Image(type=\"pil\", width=400, height=300),\n",
    "    examples=[\n",
    "        \"images/1.png\", #image 폴더에 1.png 파일\n",
    "        \"images/2.png\",\n",
    "        \"images/3.png\"\n",
    "    ],\n",
    ")\n",
    "\n",
    "app.launch()"
   ]
  },
  {
   "cell_type": "code",
   "execution_count": 29,
   "id": "dc3cee85-14f6-4d75-af6b-288a8ab261a7",
   "metadata": {},
   "outputs": [
    {
     "name": "stdout",
     "output_type": "stream",
     "text": [
      "Running on local URL:  http://127.0.0.1:7878\n",
      "\n",
      "To create a public link, set `share=True` in `launch()`.\n"
     ]
    },
    {
     "data": {
      "text/html": [
       "<div><iframe src=\"http://127.0.0.1:7878/\" width=\"100%\" height=\"500\" allow=\"autoplay; camera; microphone; clipboard-read; clipboard-write;\" frameborder=\"0\" allowfullscreen></iframe></div>"
      ],
      "text/plain": [
       "<IPython.core.display.HTML object>"
      ]
     },
     "metadata": {},
     "output_type": "display_data"
    },
    {
     "data": {
      "text/plain": []
     },
     "execution_count": 29,
     "metadata": {},
     "output_type": "execute_result"
    }
   ],
   "source": [
    "import os\n",
    "\n",
    "def display(image):\n",
    "    return image.rotate(45)\n",
    "\n",
    "app = gr.Interface(\n",
    "    display,\n",
    "    gr.Image(type=\"pil\", width=400, height=300, value=\"images/1.png\"),\n",
    "    gr.Image(type=\"pil\", width=400, height=300)\n",
    ")\n",
    "\n",
    "app.launch()"
   ]
  },
  {
   "cell_type": "code",
   "execution_count": 30,
   "id": "dad80c78-1880-4af1-a9e3-251446490a08",
   "metadata": {},
   "outputs": [
    {
     "name": "stdout",
     "output_type": "stream",
     "text": [
      "Running on local URL:  http://127.0.0.1:7879\n",
      "\n",
      "To create a public link, set `share=True` in `launch()`.\n"
     ]
    },
    {
     "data": {
      "text/html": [
       "<div><iframe src=\"http://127.0.0.1:7879/\" width=\"100%\" height=\"500\" allow=\"autoplay; camera; microphone; clipboard-read; clipboard-write;\" frameborder=\"0\" allowfullscreen></iframe></div>"
      ],
      "text/plain": [
       "<IPython.core.display.HTML object>"
      ]
     },
     "metadata": {},
     "output_type": "display_data"
    },
    {
     "data": {
      "text/plain": []
     },
     "execution_count": 30,
     "metadata": {},
     "output_type": "execute_result"
    }
   ],
   "source": [
    "def display(video):\n",
    "    return video\n",
    "\n",
    "app = gr.Interface(display, gr.Video(), \"video\")\n",
    "app.launch()"
   ]
  },
  {
   "cell_type": "code",
   "execution_count": 37,
   "id": "9bab321b-5e12-4fe0-bc35-0b879ef1b40e",
   "metadata": {},
   "outputs": [
    {
     "name": "stdout",
     "output_type": "stream",
     "text": [
      "Running on local URL:  http://127.0.0.1:7885\n",
      "\n",
      "To create a public link, set `share=True` in `launch()`.\n"
     ]
    },
    {
     "data": {
      "text/html": [
       "<div><iframe src=\"http://127.0.0.1:7885/\" width=\"100%\" height=\"500\" allow=\"autoplay; camera; microphone; clipboard-read; clipboard-write;\" frameborder=\"0\" allowfullscreen></iframe></div>"
      ],
      "text/plain": [
       "<IPython.core.display.HTML object>"
      ]
     },
     "metadata": {},
     "output_type": "display_data"
    },
    {
     "data": {
      "text/plain": []
     },
     "execution_count": 37,
     "metadata": {},
     "output_type": "execute_result"
    }
   ],
   "source": [
    "def display(video):\n",
    "    return video\n",
    "\n",
    "app = gr.Interface(display, gr.Audio(), \"audio\")\n",
    "app.launch()"
   ]
  },
  {
   "cell_type": "code",
   "execution_count": 33,
   "id": "d895b47b-dc90-45ee-96f0-0d2495d9543f",
   "metadata": {},
   "outputs": [
    {
     "name": "stdout",
     "output_type": "stream",
     "text": [
      "Running on local URL:  http://127.0.0.1:7881\n",
      "\n",
      "To create a public link, set `share=True` in `launch()`.\n"
     ]
    },
    {
     "data": {
      "text/html": [
       "<div><iframe src=\"http://127.0.0.1:7881/\" width=\"100%\" height=\"500\" allow=\"autoplay; camera; microphone; clipboard-read; clipboard-write;\" frameborder=\"0\" allowfullscreen></iframe></div>"
      ],
      "text/plain": [
       "<IPython.core.display.HTML object>"
      ]
     },
     "metadata": {},
     "output_type": "display_data"
    },
    {
     "data": {
      "text/plain": []
     },
     "execution_count": 33,
     "metadata": {},
     "output_type": "execute_result"
    }
   ],
   "source": [
    "def display(check):\n",
    "    if check==True:\n",
    "        return \"VIP 입니다.\"\n",
    "    elif check==False:\n",
    "        return \"일반 고객입니다.\"\n",
    "\n",
    "app=gr.Interface(display, gr.Checkbox(label=\"VIP 여부\"), \"text\")\n",
    "app.launch()"
   ]
  },
  {
   "cell_type": "code",
   "execution_count": 36,
   "id": "96955afd-232b-4716-9e5b-a67a9bc0aeb7",
   "metadata": {},
   "outputs": [
    {
     "name": "stdout",
     "output_type": "stream",
     "text": [
      "Running on local URL:  http://127.0.0.1:7884\n",
      "\n",
      "To create a public link, set `share=True` in `launch()`.\n"
     ]
    },
    {
     "data": {
      "text/html": [
       "<div><iframe src=\"http://127.0.0.1:7884/\" width=\"100%\" height=\"500\" allow=\"autoplay; camera; microphone; clipboard-read; clipboard-write;\" frameborder=\"0\" allowfullscreen></iframe></div>"
      ],
      "text/plain": [
       "<IPython.core.display.HTML object>"
      ]
     },
     "metadata": {},
     "output_type": "display_data"
    },
    {
     "data": {
      "text/plain": []
     },
     "execution_count": 36,
     "metadata": {},
     "output_type": "execute_result"
    }
   ],
   "source": [
    "def display(cart):\n",
    "    text = \"장바구니: \"\n",
    "    for temp in cart:\n",
    "        text += temp + \" \"\n",
    "    return text.strip()\n",
    "\n",
    "app = gr.Interface(\n",
    "    fn=display,\n",
    "    inputs=gr.CheckboxGroup([\"사과\", \"딸기\", \"바나나\", \"수박\"], label=\"장바구니 선택\"),\n",
    "    outputs=\"text\"\n",
    ")\n",
    "\n",
    "app.launch()"
   ]
  },
  {
   "cell_type": "code",
   "execution_count": 38,
   "id": "38dbf31c-026d-41b9-9850-fc18dfbad4e4",
   "metadata": {},
   "outputs": [
    {
     "name": "stdout",
     "output_type": "stream",
     "text": [
      "Running on local URL:  http://127.0.0.1:7886\n",
      "\n",
      "To create a public link, set `share=True` in `launch()`.\n"
     ]
    },
    {
     "data": {
      "text/html": [
       "<div><iframe src=\"http://127.0.0.1:7886/\" width=\"100%\" height=\"500\" allow=\"autoplay; camera; microphone; clipboard-read; clipboard-write;\" frameborder=\"0\" allowfullscreen></iframe></div>"
      ],
      "text/plain": [
       "<IPython.core.display.HTML object>"
      ]
     },
     "metadata": {},
     "output_type": "display_data"
    },
    {
     "data": {
      "text/plain": []
     },
     "execution_count": 38,
     "metadata": {},
     "output_type": "execute_result"
    }
   ],
   "source": [
    "def display(value):\n",
    "    return \"구매 개수 : \"+str(value)\n",
    "\n",
    "app=gr.Interface(\n",
    "    display,\n",
    "    gr.Slider(minimum=0, maximum=100, step=1),\n",
    "    \"text\")\n",
    "\n",
    "app.launch()"
   ]
  },
  {
   "cell_type": "code",
   "execution_count": 40,
   "id": "7a143665-fd64-4d66-a551-764ca21a3a74",
   "metadata": {},
   "outputs": [
    {
     "name": "stdout",
     "output_type": "stream",
     "text": [
      "Running on local URL:  http://127.0.0.1:7887\n",
      "\n",
      "To create a public link, set `share=True` in `launch()`.\n"
     ]
    },
    {
     "data": {
      "text/html": [
       "<div><iframe src=\"http://127.0.0.1:7887/\" width=\"100%\" height=\"500\" allow=\"autoplay; camera; microphone; clipboard-read; clipboard-write;\" frameborder=\"0\" allowfullscreen></iframe></div>"
      ],
      "text/plain": [
       "<IPython.core.display.HTML object>"
      ]
     },
     "metadata": {},
     "output_type": "display_data"
    },
    {
     "data": {
      "text/plain": []
     },
     "execution_count": 40,
     "metadata": {},
     "output_type": "execute_result"
    }
   ],
   "source": [
    "import os\n",
    "def display(dropmenu):\n",
    "    return dropmenu + \"으로 이동합니다.\"\n",
    "\n",
    "app=gr.Interface(\n",
    "    display,\n",
    "    gr.Dropdown([\"1층\", \"2층\", \"3층\", \"4층\"],label='이동 층',\n",
    "                info=\"이동할 층을 골라주세요.\"),\n",
    "    gr.Text()\n",
    ")\n",
    "\n",
    "app.launch()"
   ]
  },
  {
   "cell_type": "code",
   "execution_count": 41,
   "id": "e29fddaf-4d0c-4b0a-b519-2f062689bc15",
   "metadata": {},
   "outputs": [
    {
     "name": "stdout",
     "output_type": "stream",
     "text": [
      "Running on local URL:  http://127.0.0.1:7888\n",
      "\n",
      "To create a public link, set `share=True` in `launch()`.\n"
     ]
    },
    {
     "data": {
      "text/html": [
       "<div><iframe src=\"http://127.0.0.1:7888/\" width=\"100%\" height=\"500\" allow=\"autoplay; camera; microphone; clipboard-read; clipboard-write;\" frameborder=\"0\" allowfullscreen></iframe></div>"
      ],
      "text/plain": [
       "<IPython.core.display.HTML object>"
      ]
     },
     "metadata": {},
     "output_type": "display_data"
    },
    {
     "data": {
      "text/plain": []
     },
     "execution_count": 41,
     "metadata": {},
     "output_type": "execute_result"
    }
   ],
   "source": [
    "def display(text):\n",
    "    return text\n",
    "\n",
    "with gr.Blocks() as app:\n",
    "    text1=gr.Textbox(label=\"Name\")\n",
    "    text2=gr.Textbox(label=\"Output\")\n",
    "    btn=gr.Button(value=\"Submit\")\n",
    "    btn.click(fn=display, inputs=text1, outputs=text2)\n",
    "\n",
    "app.launch()"
   ]
  },
  {
   "cell_type": "code",
   "execution_count": 42,
   "id": "6ba12a5f-7080-4be7-af6e-2830ac4d5b90",
   "metadata": {},
   "outputs": [
    {
     "name": "stdout",
     "output_type": "stream",
     "text": [
      "Running on local URL:  http://127.0.0.1:7889\n",
      "\n",
      "To create a public link, set `share=True` in `launch()`.\n"
     ]
    },
    {
     "data": {
      "text/html": [
       "<div><iframe src=\"http://127.0.0.1:7889/\" width=\"100%\" height=\"500\" allow=\"autoplay; camera; microphone; clipboard-read; clipboard-write;\" frameborder=\"0\" allowfullscreen></iframe></div>"
      ],
      "text/plain": [
       "<IPython.core.display.HTML object>"
      ]
     },
     "metadata": {},
     "output_type": "display_data"
    },
    {
     "data": {
      "text/plain": []
     },
     "execution_count": 42,
     "metadata": {},
     "output_type": "execute_result"
    }
   ],
   "source": [
    "def display(text):\n",
    "    return text\n",
    "\n",
    "with gr.Blocks() as app:\n",
    "    text1=gr.Textbox(label=\"Name\")\n",
    "    text2=gr.Textbox(label=\"Output\")\n",
    "    btn=gr.Button(value=\"Submit\")\n",
    "    btn.click(fn=display, inputs=text1, outputs=text2)\n",
    "    gr.ClearButton([text1, text2])\n",
    "\n",
    "app.launch()"
   ]
  },
  {
   "cell_type": "code",
   "execution_count": null,
   "id": "24471374-c99d-4bf1-8756-d808f383af66",
   "metadata": {},
   "outputs": [],
   "source": []
  },
  {
   "cell_type": "code",
   "execution_count": null,
   "id": "5d4213c5-2340-47f7-8652-d1b76993dc6e",
   "metadata": {},
   "outputs": [],
   "source": []
  },
  {
   "cell_type": "code",
   "execution_count": null,
   "id": "6cf86483-1bb5-4780-9d12-ff0cc1c34d60",
   "metadata": {},
   "outputs": [],
   "source": []
  }
 ],
 "metadata": {
  "kernelspec": {
   "display_name": "Python 3 (ipykernel)",
   "language": "python",
   "name": "python3"
  },
  "language_info": {
   "codemirror_mode": {
    "name": "ipython",
    "version": 3
   },
   "file_extension": ".py",
   "mimetype": "text/x-python",
   "name": "python",
   "nbconvert_exporter": "python",
   "pygments_lexer": "ipython3",
   "version": "3.9.20"
  }
 },
 "nbformat": 4,
 "nbformat_minor": 5
}
