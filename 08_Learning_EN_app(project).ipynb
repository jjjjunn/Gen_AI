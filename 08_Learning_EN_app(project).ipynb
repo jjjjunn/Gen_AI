{
 "cells": [
  {
   "cell_type": "markdown",
   "id": "2ecd2ff1-0783-499d-9e5e-8c3988e05d64",
   "metadata": {},
   "source": [
    "# 영어를 한 문장씩 출력해 주는 AI 프로그램 만들기"
   ]
  },
  {
   "cell_type": "markdown",
   "id": "a504f31f-20cd-4647-b120-dd8ca00e6618",
   "metadata": {},
   "source": [
    "## OpenAI API 키 불러오기"
   ]
  },
  {
   "cell_type": "code",
   "execution_count": 1,
   "id": "47fffba2-67e7-4cc9-a0da-516d5ab26f69",
   "metadata": {},
   "outputs": [],
   "source": [
    "import os\n",
    "import openai\n",
    "\n",
    "# 환경변수에서 OpenAI API 키를 읽어옴.\n",
    "openai_api_key = os.getenv('OPENAI_API_KEY')\n",
    "\n",
    "# API 키가 환경변수에 설정되어 있는지 확인.\n",
    "if not openai_api_key:\n",
    "    raise ValueError(\"환경변수 'OPENAI_API_KEY'가 설정되지 않았습니다.\")\n",
    "\n",
    "# OpenAI API 키를 설정.\n",
    "openai.api_key = openai_api_key\n",
    "\n",
    "# OpenAI 클라이언트를 생성.\n",
    "client = openai.OpenAI()"
   ]
  },
  {
   "cell_type": "markdown",
   "id": "fb2d225a-6cd3-4314-9c3e-92d27e491568",
   "metadata": {},
   "source": [
    "## 레이아웃 구성하기 (그라디오)"
   ]
  },
  {
   "cell_type": "code",
   "execution_count": 2,
   "id": "04e53cda-7d5b-4b86-9d1a-b7ea59091ec5",
   "metadata": {},
   "outputs": [
    {
     "name": "stdout",
     "output_type": "stream",
     "text": [
      "Running on local URL:  http://127.0.0.1:7860\n",
      "\n",
      "To create a public link, set `share=True` in `launch()`.\n"
     ]
    },
    {
     "data": {
      "text/html": [
       "<div><iframe src=\"http://127.0.0.1:7860/\" width=\"100%\" height=\"500\" allow=\"autoplay; camera; microphone; clipboard-read; clipboard-write;\" frameborder=\"0\" allowfullscreen></iframe></div>"
      ],
      "text/plain": [
       "<IPython.core.display.HTML object>"
      ]
     },
     "metadata": {},
     "output_type": "display_data"
    },
    {
     "data": {
      "text/plain": []
     },
     "execution_count": 2,
     "metadata": {},
     "output_type": "execute_result"
    }
   ],
   "source": [
    "import gradio as gr\n",
    "with gr.Blocks() as app:\n",
    "    with gr.Tab(\"영어 학습봇\"): # 탭\n",
    "        with gr.Column(): \n",
    "            gr.Markdown() # 제목\n",
    "        with gr.Row():\n",
    "            with gr.Column():\n",
    "                with gr.Column():\n",
    "                    gr.Dropdown() #1\n",
    "                    gr.Slider() #2\n",
    "                    gr.Dropdown() #3\n",
    "                    gr.Button() #4\n",
    "            gr.Textbox() #5\n",
    "\n",
    "        with gr.Row():\n",
    "            gr.Textbox() #6\n",
    "            gr.Button() #7\n",
    "app.launch()"
   ]
  },
  {
   "cell_type": "markdown",
   "id": "a6e8fbd6-fe4e-46f5-97f7-12e468c2c764",
   "metadata": {},
   "source": [
    "## 레이아웃 다듬기, 컴포넌트 추가하기"
   ]
  },
  {
   "cell_type": "code",
   "execution_count": 3,
   "id": "0f67cfa0-cfa6-4b75-81dc-9e7e7ef6215a",
   "metadata": {},
   "outputs": [
    {
     "name": "stderr",
     "output_type": "stream",
     "text": [
      "C:\\Users\\niceq\\anaconda3\\envs\\ai_jun\\lib\\site-packages\\gradio\\components\\base.py:193: UserWarning: 'scale' value should be an integer. Using 0.3 will cause issues.\n",
      "  warnings.warn(\n"
     ]
    },
    {
     "name": "stdout",
     "output_type": "stream",
     "text": [
      "Running on local URL:  http://127.0.0.1:7861\n",
      "\n",
      "To create a public link, set `share=True` in `launch()`.\n"
     ]
    },
    {
     "data": {
      "text/html": [
       "<div><iframe src=\"http://127.0.0.1:7861/\" width=\"100%\" height=\"500\" allow=\"autoplay; camera; microphone; clipboard-read; clipboard-write;\" frameborder=\"0\" allowfullscreen></iframe></div>"
      ],
      "text/plain": [
       "<IPython.core.display.HTML object>"
      ]
     },
     "metadata": {},
     "output_type": "display_data"
    },
    {
     "data": {
      "text/plain": []
     },
     "execution_count": 3,
     "metadata": {},
     "output_type": "execute_result"
    }
   ],
   "source": [
    "import gradio as gr\n",
    "with gr.Blocks() as app:\n",
    "    with gr.Tab(\"영어 학습봇\"): # 탭\n",
    "        with gr.Column(): \n",
    "            gr.Markdown(\n",
    "                value=\"\"\"\n",
    "                # <center>영어 학습봇</center>\n",
    "                <center>인공지능 비서 DUDE 입니다.\n",
    "                영어 학습을 위한 영어 한 문장을 생성합니다.</center>\n",
    "                \"\"\"\n",
    "            ) # 제목\n",
    "        with gr.Row():\n",
    "            with gr.Column():\n",
    "                with gr.Column():\n",
    "                    en_type = gr.Dropdown( #1\n",
    "                        label=\"타입 선택\",\n",
    "                        choices=[\"일반회화\", \"비즈니스\", \"명언\", \"시사\"],\n",
    "                        value = \"일반회화\",\n",
    "                        interactive=True   \n",
    "                    ) \n",
    "                    gr.Slider( #2\n",
    "                        label=\"속도\",\n",
    "                        info=\"숫자가 높을수록 속도 빠름\",\n",
    "                        minimum=0,\n",
    "                        maximum=2,\n",
    "                        step=0.2,\n",
    "                        value=1,\n",
    "                        interactive=True                        \n",
    "                    ) \n",
    "                    en_voice = gr.Dropdown( #3\n",
    "                        label=\"목소리 선택\",\n",
    "                        choices = [\"alloy\", \"echo\", \"fable\", \"onyx\", \"nova\", \"shimmer\"],\n",
    "                        value = \"alloy\",\n",
    "                        interactive=True                        \n",
    "                    ) \n",
    "                    cb_submit_btn=gr.Button(\n",
    "                        value=\"음성 듣기\",\n",
    "                        scale=1,\n",
    "                        visible=\"primary\",\n",
    "                        icon=\"https://cdn-icons-png.flaticon.com/128/12439/12439334.png\" # 재생버튼\n",
    "                    ) #4\n",
    "            gr.Textbox( #5\n",
    "                container=False,\n",
    "                placeholder=\"AI와 함께 영어 공부를!\",\n",
    "                lines=3,\n",
    "                scale=4,\n",
    "                show_copy_button=True # 내용 복사 기능\n",
    "            ) \n",
    "\n",
    "        with gr.Row():\n",
    "            gr.Textbox( #6\n",
    "                label=\"\",\n",
    "                placeholder=\"AI가 생성한 문장을 해석 및 설명합니다.\",\n",
    "                lines=5,\n",
    "                max_lines=20,\n",
    "                show_copy_button=True # 내용 복사 기능                \n",
    "            ) \n",
    "            en_create=gr.Button( #7\n",
    "                value=\"🔄️생성하기\",\n",
    "                scale=0.3,\n",
    "                visible='primary'\n",
    "                ) \n",
    "app.launch()"
   ]
  },
  {
   "cell_type": "markdown",
   "id": "ad1d8a3c-0b8a-41e2-a2d8-060491a8bc0b",
   "metadata": {},
   "source": [
    "## 기능 설정 (함수 정의)"
   ]
  },
  {
   "cell_type": "code",
   "execution_count": 7,
   "id": "8cffa058-37b4-48aa-992a-2849747f3b2e",
   "metadata": {},
   "outputs": [],
   "source": [
    "import pyttsx3 # 텍스트 음성\n",
    "\n",
    "# 문장을 생성하는 함수\n",
    "def generate_sentence(en_type, speed, en_voice):\n",
    "    # TODO: OpenAI API를 사용하여 문장 생성 로직 추가\n",
    "    # 선택한 카테고리로 문장 생성\n",
    "    prompt =  f\"Generate a sentence in the {en_type} category.\" \n",
    "    try:\n",
    "        response = client.Completion.create(\n",
    "            engine=\"text-davinci-003\",\n",
    "            prompt=prompt,\n",
    "            max_tokens=60,\n",
    "            n=1,\n",
    "            stop=None,\n",
    "            temperature=0.7\n",
    "        )\n",
    "        generated_sentence = response.choices[0].text.strip()\n",
    "        return generated_sentence\n",
    "    except Exception as e:\n",
    "        return f\"문장 생성 중 오류 발생: {e}\"\n",
    "\n",
    "# 문장 발음을 위한 함수 (placeholder)\n",
    "def play_sentence(generated_sentence, speed, en_voice):\n",
    "    # 텍스트 음성을 위한 pyttsx3 초기화\n",
    "    engine = pyttsx3.init()\n",
    "\n",
    "    # 속도 설정\n",
    "    engine.setProperty('rate', 150 + (speed * 50)) # 기본 속도 조절(기본속도 = 150)\n",
    "\n",
    "    # 목소리 설정\n",
    "    voices = engine.getProperty('voices')\n",
    "    voice_index = {\"alloy\":0, \"echo\":1, \"fable\":2, \"onyx\":3, \"nova\":4, \"shimmer\":5}\n",
    "    if en_voice in voice_index:\n",
    "        engine.setProperty('voice', voices[voice_index[en_voice]].id)\n",
    "\n",
    "    # 문장 읽기\n",
    "    engine.say(generated_sentence)\n",
    "    engine.runAndWait()\n",
    "\n",
    "\n",
    "# 문장 해석 및 설명 함수\n",
    "def explain_sentence(sentence):\n",
    "    # 문장을 해석하는 기본적인 설명\n",
    "    explanation = f\"The sentence '{sentence}' means that...\"\n",
    "    # 실제 문법적인 부분이나 의미를 추가적으로 설명할 수 있는 부분\n",
    "    \n",
    "    return explanation"
   ]
  },
  {
   "cell_type": "code",
   "execution_count": 6,
   "id": "b76ca45a-11b9-4ece-a634-5f2b47b39916",
   "metadata": {},
   "outputs": [
    {
     "name": "stdout",
     "output_type": "stream",
     "text": [
      "Collecting pyttsx3\n",
      "  Downloading pyttsx3-2.98-py3-none-any.whl.metadata (3.8 kB)\n",
      "Collecting comtypes (from pyttsx3)\n",
      "  Downloading comtypes-1.4.10-py3-none-any.whl.metadata (7.2 kB)\n",
      "Collecting pypiwin32 (from pyttsx3)\n",
      "  Downloading pypiwin32-223-py3-none-any.whl.metadata (236 bytes)\n",
      "Requirement already satisfied: pywin32 in c:\\users\\niceq\\appdata\\roaming\\python\\python39\\site-packages (from pyttsx3) (308)\n",
      "Downloading pyttsx3-2.98-py3-none-any.whl (34 kB)\n",
      "Downloading comtypes-1.4.10-py3-none-any.whl (241 kB)\n",
      "Downloading pypiwin32-223-py3-none-any.whl (1.7 kB)\n",
      "Installing collected packages: pypiwin32, comtypes, pyttsx3\n",
      "Successfully installed comtypes-1.4.10 pypiwin32-223 pyttsx3-2.98\n"
     ]
    }
   ],
   "source": [
    "!pip install pyttsx3"
   ]
  },
  {
   "cell_type": "markdown",
   "id": "d3da8f30-def3-45ee-9501-794cebcc0930",
   "metadata": {},
   "source": [
    "## 이벤트 리스너 추가"
   ]
  },
  {
   "cell_type": "code",
   "execution_count": 31,
   "id": "fc56df6b-e375-46d6-b1e0-3bf2aba5c13f",
   "metadata": {},
   "outputs": [
    {
     "name": "stderr",
     "output_type": "stream",
     "text": [
      "C:\\Users\\niceq\\anaconda3\\envs\\ai_jun\\lib\\site-packages\\gradio\\components\\dropdown.py:188: UserWarning: The value passed into gr.Dropdown() is not in the list of choices. Please update the list of choices to include: alloy or set allow_custom_value=True.\n",
      "  warnings.warn(\n",
      "C:\\Users\\niceq\\anaconda3\\envs\\ai_jun\\lib\\site-packages\\gradio\\components\\base.py:193: UserWarning: 'scale' value should be an integer. Using 0.3 will cause issues.\n",
      "  warnings.warn(\n"
     ]
    },
    {
     "name": "stdout",
     "output_type": "stream",
     "text": [
      "Running on local URL:  http://127.0.0.1:7877\n",
      "\n",
      "To create a public link, set `share=True` in `launch()`.\n"
     ]
    },
    {
     "data": {
      "text/html": [
       "<div><iframe src=\"http://127.0.0.1:7877/\" width=\"100%\" height=\"500\" allow=\"autoplay; camera; microphone; clipboard-read; clipboard-write;\" frameborder=\"0\" allowfullscreen></iframe></div>"
      ],
      "text/plain": [
       "<IPython.core.display.HTML object>"
      ]
     },
     "metadata": {},
     "output_type": "display_data"
    },
    {
     "data": {
      "text/plain": []
     },
     "execution_count": 31,
     "metadata": {},
     "output_type": "execute_result"
    }
   ],
   "source": [
    "import os\n",
    "import openai\n",
    "import pyttsx3 # 텍스트 음성\n",
    "\n",
    "# 환경변수에서 OpenAI API 키를 읽어옴.\n",
    "openai_api_key = os.getenv('OPENAI_API_KEY')\n",
    "\n",
    "# API 키가 환경변수에 설정되어 있는지 확인.\n",
    "if not openai_api_key:\n",
    "    raise ValueError(\"환경변수 'OPENAI_API_KEY'가 설정되지 않았습니다.\")\n",
    "\n",
    "# OpenAI API 키를 설정.\n",
    "openai.api_key = openai_api_key\n",
    "\n",
    "# OpenAI 클라이언트를 생성.\n",
    "client = openai.OpenAI()\n",
    "\n",
    "\n",
    "# 문장을 생성하는 함수\n",
    "def generate_sentence(en_type, speed, en_voice):\n",
    "    prompt = f\"Generate an English sentence in the category of '{en_type}'.\"\n",
    "    try:\n",
    "        completion = openai.chat.completions.create(\n",
    "            model=\"gpt-3.5-turbo\",\n",
    "            messages=[\n",
    "                {\n",
    "                    \"role\": \"user\",\n",
    "                    \"content\": prompt\n",
    "                }\n",
    "            ],\n",
    "            max_tokens=60\n",
    "        )\n",
    "        \n",
    "        generated_sentence = completion.choices[0].message.content\n",
    "        return generated_sentence\n",
    "    except Exception as e:\n",
    "        return f\"문장 생성 중 오류 발생: {e}\"\n",
    "\n",
    "# 문장 발음을 위한 함수\n",
    "# 사용 가능한 목소리 목록 가져오기\n",
    "def get_available_voices():\n",
    "    # TTS 엔진 초기화\n",
    "    engine = pyttsx3.init()\n",
    "\n",
    "    # 사용 가능한 목소리 목록 가져오기\n",
    "    voices = engine.getProperty('voices')\n",
    "    voice_choices = []\n",
    "    \n",
    "    for voice in voices:\n",
    "        voice_choices.append(voice.name)  # 목소리 이름을 리스트에 추가\n",
    "        \n",
    "    return voice_choices\n",
    "\n",
    "# 음성 재생 함수\n",
    "# 음성 파일 다운로드 없이 바로 재생될 수 있게 pyttsx3 엔진 사용\n",
    "def play_sentence(generated_sentence, speed, en_voice):\n",
    "    # 텍스트 음성을 위한 pyttsx3 초기화\n",
    "    engine = pyttsx3.init()\n",
    "\n",
    "    # 속도 설정\n",
    "    engine.setProperty('rate', 150 + (speed * 50)) # 기본 속도 조절(기본속도 = 150)\n",
    "\n",
    "    # 목소리 설정\n",
    "    voices = engine.getProperty('voices')\n",
    "    for voice in voices:\n",
    "        if voice.name == en_voice:\n",
    "            engine.setProperty('voice', voice.id)\n",
    "   \n",
    "    # 문장 읽기\n",
    "    engine.say(generated_sentence)\n",
    "    engine.runAndWait()\n",
    "\n",
    "\n",
    "# 문장 해석 및 설명 함수\n",
    "def explain_sentence(sentence):\n",
    "    # 문장을 해석하는 기본적인 설명\n",
    "    # 한국어로 출력되게 하기 위해 한국어로 프롬프트 작성\n",
    "    explanation_prompt =  f\"문장 '{sentence}'을(를) 한국어로 번역하고 해당 문장에 사용된 문법이나 단어를 설명해 주세요.\"\n",
    "    try:\n",
    "        completion = openai.chat.completions.create(\n",
    "            model=\"gpt-3.5-turbo\",\n",
    "            messages=[\n",
    "                {\n",
    "                    \"role\": \"user\",\n",
    "                    \"content\": explanation_prompt\n",
    "                }\n",
    "            ],\n",
    "            max_tokens=1000 # 보다 긴 설명을 위한 토큰 수 증가\n",
    "        )\n",
    "        \n",
    "        generated_explanation = completion.choices[0].message.content # 생성된 설명 받\n",
    "        return generated_explanation\n",
    "    except Exception as e:\n",
    "        return f\"문장 생성 중 오류 발생: {e}\"\n",
    "\n",
    "import gradio as gr\n",
    "with gr.Blocks() as app:\n",
    "    with gr.Tab(\"영어 학습봇\"): # 탭\n",
    "        with gr.Column(): \n",
    "            gr.Markdown(\n",
    "                value=\"\"\"\n",
    "                # <center>영어 학습봇</center>\n",
    "                <center>인공지능 비서 DUDE 입니다.\n",
    "                영어 학습을 위한 영어 한 문장을 생성합니다.</center>\n",
    "                \"\"\"\n",
    "            ) # 제목\n",
    "        with gr.Row():\n",
    "            with gr.Column():\n",
    "                with gr.Column():\n",
    "                    en_type = gr.Dropdown( #1\n",
    "                        label=\"타입 선택\",\n",
    "                        choices=[\"일반회화\", \"비즈니스\", \"명언\", \"시사\"],\n",
    "                        value = \"일반회화\",\n",
    "                        interactive=True   \n",
    "                    ) \n",
    "                    speed = gr.Slider( #2\n",
    "                        label=\"속도\",\n",
    "                        info=\"숫자가 높을수록 속도 빠름\",\n",
    "                        minimum=0,\n",
    "                        maximum=2,\n",
    "                        step=0.2,\n",
    "                        value=1,\n",
    "                        interactive=True                        \n",
    "                    )\n",
    "                    \n",
    "                    # 사용 가능한 목소리 리스트 가져오기\n",
    "                    voice_choices = get_available_voices()\n",
    "                    \n",
    "                    en_voice = gr.Dropdown( #3\n",
    "                        label=\"목소리 선택\",\n",
    "                        choices = voice_choices,\n",
    "                        value = \"alloy\",\n",
    "                        interactive=True                        \n",
    "                    ) \n",
    "                    play_btn=gr.Button(\n",
    "                        value=\"음성 듣기\",\n",
    "                        scale=1,\n",
    "                        visible=\"primary\",\n",
    "                        icon=\"https://cdn-icons-png.flaticon.com/128/12439/12439334.png\" # 재생버튼\n",
    "                    ) #4\n",
    "            \n",
    "            generated_sentence_box = gr.Textbox( #5\n",
    "                container=False,\n",
    "                placeholder=\"AI와 함께 영어 공부를!\",\n",
    "                lines=3,\n",
    "                scale=4,\n",
    "                show_copy_button=True # 내용 복사 기능\n",
    "            ) \n",
    "\n",
    "        with gr.Row():\n",
    "            explanation_box = gr.Textbox( #6\n",
    "                label=\"\",\n",
    "                placeholder=\"AI가 생성한 문장을 해석 및 설명합니다.\",\n",
    "                lines=10,\n",
    "                max_lines=100,\n",
    "                show_copy_button=True # 내용 복사 기능                \n",
    "            ) \n",
    "            en_create=gr.Button( #7\n",
    "                value=\"🔄️생성하기\",\n",
    "                scale=0.3,\n",
    "                visible='primary'\n",
    "                ) \n",
    "\n",
    "        # 이벤트 리스너\n",
    "        en_create.click(\n",
    "            fn=generate_sentence,\n",
    "            inputs=[en_type, speed, en_voice],\n",
    "            outputs=generated_sentence_box\n",
    "        )\n",
    "\n",
    "        play_btn.click(\n",
    "            fn=play_sentence,\n",
    "            inputs=[generated_sentence_box, speed, en_voice],\n",
    "            outputs=None\n",
    "        )\n",
    "\n",
    "        generated_sentence_box.change(\n",
    "            fn=explain_sentence,\n",
    "            inputs=generated_sentence_box,\n",
    "            outputs=explanation_box\n",
    "        )\n",
    "\n",
    "            \n",
    "app.launch()"
   ]
  },
  {
   "cell_type": "code",
   "execution_count": null,
   "id": "35966e3c-cae6-493a-9f06-48abfbba496e",
   "metadata": {},
   "outputs": [],
   "source": []
  }
 ],
 "metadata": {
  "kernelspec": {
   "display_name": "ai_jun",
   "language": "python",
   "name": "ai_jun"
  },
  "language_info": {
   "codemirror_mode": {
    "name": "ipython",
    "version": 3
   },
   "file_extension": ".py",
   "mimetype": "text/x-python",
   "name": "python",
   "nbconvert_exporter": "python",
   "pygments_lexer": "ipython3",
   "version": "3.9.20"
  }
 },
 "nbformat": 4,
 "nbformat_minor": 5
}
